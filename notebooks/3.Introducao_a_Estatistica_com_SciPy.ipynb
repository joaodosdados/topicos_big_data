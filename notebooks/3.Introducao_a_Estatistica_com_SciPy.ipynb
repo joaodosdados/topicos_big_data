{
 "cells": [
  {
   "cell_type": "markdown",
   "metadata": {},
   "source": [
    "# Introdução à Estatística com SciPy\n",
    "\n",
    "Este notebook oferece uma introdução a testes estatísticos fundamentais usando a biblioteca `SciPy`. Vamos explorar como aplicar testes de hipóteses para extrair insights de dados."
   ]
  },
  {
   "cell_type": "markdown",
   "metadata": {},
   "source": [
    "## Carregando os Dados\n",
    "\n",
    "Vamos usar o dataset do Titanic novamente."
   ]
  },
  {
   "cell_type": "code",
   "execution_count": null,
   "metadata": {},
   "outputs": [],
   "source": [
    "import pandas as pd\n",
    "from scipy import stats\n",
    "\n",
    "df = pd.read_csv('../data/titanic/train.csv')"
   ]
  },
  {
   "cell_type": "markdown",
   "metadata": {},
   "source": [
    "## Teste T de Amostras Independentes\n",
    "\n",
    "O Teste T é usado para comparar as médias de dois grupos. Nossa hipótese nula (H0) é que não há diferença significativa entre as médias.\n",
    "\n",
    "**Pergunta**: A idade média dos sobreviventes é significativamente diferente da idade média dos não sobreviventes?"
   ]
  },
  {
   "cell_type": "code",
   "execution_count": null,
   "metadata": {},
   "outputs": [],
   "source": [
    "survived = df[df['Survived'] == 1]['Age'].dropna()\n",
    "not_survived = df[df['Survived'] == 0]['Age'].dropna()\n",
    "\n",
    "t_stat, p_value = stats.ttest_ind(survived, not_survived)\n",
    "\n",
    "print(f'Estatística T: {t_stat:.4f}')\n",
    "print(f'Valor-p: {p_value:.4f}')\n",
    "\n",
    "if p_value < 0.05:\n",
    "    print('Rejeitamos a hipótese nula. Há uma diferença significativa nas idades.')\n",
    "else:\n",
    "    print('Não rejeitamos a hipótese nula. Não há diferença significativa nas idades.')"
   ]
  },
  {
   "cell_type": "markdown",
   "metadata": {},
   "source": [
    "## Teste Qui-Quadrado (Chi-Squared)\n",
    "\n",
    "O teste Qui-Quadrado é usado para verificar a independência entre duas variáveis categóricas. A hipótese nula (H0) é que as variáveis são independentes.\n",
    "\n",
    "**Pergunta**: Existe uma associação entre a classe do passageiro (Pclass) e a sobrevivência (Survived)?"
   ]
  },
  {
   "cell_type": "code",
   "execution_count": null,
   "metadata": {},
   "outputs": [],
   "source": [
    "contingency_table = pd.crosstab(df['Pclass'], df['Survived'])\n",
    "chi2, p, dof, expected = stats.chi2_contingency(contingency_table)\n",
    "\n",
    "print(f'Estatística Qui-Quadrado: {chi2:.4f}')\n",
    "print(f'Valor-p: {p:.4f}')\n",
    "\n",
    "if p < 0.05:\n",
    "    print('Rejeitamos a hipótese nula. Há uma associação entre classe e sobrevivência.')\n",
    "else:\n",
    "    print('Não rejeitamos a hipótese nula. Não há associação entre classe e sobrevivência.')"
   ]
  },
  {
   "cell_type": "markdown",
   "metadata": {},
   "source": [
    "## ANOVA (Análise de Variância)\n",
    "\n",
    "ANOVA é usada para comparar as médias de três ou mais grupos. A hipótese nula (H0) é que as médias de todos os grupos são iguais.\n",
    "\n",
    "**Pergunta**: O valor da passagem (Fare) difere significativamente entre as diferentes classes de passageiros (Pclass)?"
   ]
  },
  {
   "cell_type": "code",
   "execution_count": null,
   "metadata": {},
   "outputs": [],
   "source": [
    "pclass1 = df[df['Pclass'] == 1]['Fare']\n",
    "pclass2 = df[df['Pclass'] == 2]['Fare']\n",
    "pclass3 = df[df['Pclass'] == 3]['Fare']\n",
    "\n",
    "f_stat, p_value = stats.f_oneway(pclass1, pclass2, pclass3)\n",
    "\n",
    "print(f'Estatística F: {f_stat:.4f}')\n",
    "print(f'Valor-p: {p_value:.4f}')\n",
    "\n",
    "if p_value < 0.05:\n",
    "    print('Rejeitamos a hipótese nula. Há uma diferença significativa na tarifa entre as classes.')\n",
    "else:\n",
    "    print('Não rejeitamos a hipótese nula. Não há diferença significativa na tarifa entre as classes.')"
   ]
  }
 ],
 "metadata": {
  "kernelspec": {
   "display_name": "Python 3",
   "language": "python",
   "name": "python3"
  },
  "language_info": {
   "codemirror_mode": {
    "name": "ipython",
    "version": 3
   },
   "file_extension": ".py",
   "mimetype": "text/x-python",
   "name": "python",
   "nbconvert_exporter": "python",
   "pygments_lexer": "ipython3",
   "version": "3.12.6"
  }
 },
 "nbformat": 4,
 "nbformat_minor": 4
}
